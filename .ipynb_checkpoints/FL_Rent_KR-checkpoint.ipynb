{
 "cells": [
  {
   "cell_type": "code",
   "execution_count": 1,
   "metadata": {},
   "outputs": [],
   "source": [
    "# import dependencies\n",
    "import pandas as pd\n",
    "import requests"
   ]
  },
  {
   "cell_type": "code",
   "execution_count": 16,
   "metadata": {},
   "outputs": [],
   "source": [
    "# set url\n",
    "url = 'https://www.rentdata.org/states/florida/'"
   ]
  },
  {
   "cell_type": "code",
   "execution_count": 13,
   "metadata": {},
   "outputs": [],
   "source": [
    "html = requests.get(url).content"
   ]
  },
  {
   "cell_type": "code",
   "execution_count": 14,
   "metadata": {},
   "outputs": [
    {
     "data": {
      "text/plain": [
       "[                     0          1          2          3          4\n",
       " 0                 $491       $545       $639       $834       $928\n",
       " 1  Studio / Efficiency  1-Bedroom  2-Bedroom  3-Bedroom  4-Bedroom\n",
       " 2                  NaN        NaN        NaN        NaN        NaN\n",
       " 3                 0-BR       1-BR       2-BR       3-BR       4-BR,\n",
       "                   County  0 BR  1 BR  2 BR  3 BR    4 BR  Est. Population\n",
       " 0   Alachua County Metro  $498  $550  $626  $915    $943           217955\n",
       " 1     Baker County Metro  $327  $453  $503  $735    $755            22259\n",
       " 2       Bay County Metro  $492  $519  $594  $820    $912           148217\n",
       " 3        Bradford County  $327  $454  $503  $623    $643            26088\n",
       " 4   Brevard County Metro  $469  $574  $676  $911  $1,015           476230\n",
       " ..                   ...   ...   ...   ...   ...     ...              ...\n",
       " 62          Union County  $389  $448  $503  $665    $686            13442\n",
       " 63  Volusia County Metro  $483  $564  $702  $908    $934           443343\n",
       " 64  Wakulla County Metro  $471  $512  $569  $748    $772            22863\n",
       " 65         Walton County  $444  $458  $536  $662    $682            40601\n",
       " 66     Washington County  $335  $381  $503  $721    $741            20973\n",
       " \n",
       " [67 rows x 7 columns]]"
      ]
     },
     "execution_count": 14,
     "metadata": {},
     "output_type": "execute_result"
    }
   ],
   "source": [
    "pd.read_html(html)"
   ]
  },
  {
   "cell_type": "code",
   "execution_count": 18,
   "metadata": {},
   "outputs": [
    {
     "name": "stdout",
     "output_type": "stream",
     "text": [
      "https://www.rentdata.org/states/florida/2006/\n"
     ]
    },
    {
     "ename": "NameError",
     "evalue": "name 'test' is not defined",
     "output_type": "error",
     "traceback": [
      "\u001b[1;31m---------------------------------------------------------------------------\u001b[0m",
      "\u001b[1;31mNameError\u001b[0m                                 Traceback (most recent call last)",
      "\u001b[1;32m<ipython-input-18-98c92027c178>\u001b[0m in \u001b[0;36m<module>\u001b[1;34m()\u001b[0m\n\u001b[0;32m     11\u001b[0m     \u001b[0mtables\u001b[0m \u001b[1;33m=\u001b[0m \u001b[0mpd\u001b[0m\u001b[1;33m.\u001b[0m\u001b[0mread_html\u001b[0m\u001b[1;33m(\u001b[0m\u001b[0mhtml\u001b[0m\u001b[1;33m)\u001b[0m\u001b[1;33m\u001b[0m\u001b[1;33m\u001b[0m\u001b[0m\n\u001b[0;32m     12\u001b[0m \u001b[1;33m\u001b[0m\u001b[0m\n\u001b[1;32m---> 13\u001b[1;33m     \u001b[0mtest\u001b[0m \u001b[1;33m=\u001b[0m \u001b[0mtest\u001b[0m\u001b[1;33m.\u001b[0m\u001b[0mappend\u001b[0m\u001b[1;33m(\u001b[0m\u001b[0mtables\u001b[0m\u001b[1;33m)\u001b[0m\u001b[1;33m\u001b[0m\u001b[1;33m\u001b[0m\u001b[0m\n\u001b[0m",
      "\u001b[1;31mNameError\u001b[0m: name 'test' is not defined"
     ]
    }
   ],
   "source": [
    "# for loop time\n",
    "\n",
    "# list of years of data available\n",
    "years = [2006,2007,2008,2009,2010,2011,2012,2013,2014,2015,2016,2017,2018,2019,2020]\n",
    "\n",
    "# create an empty dictionary so we can have year as the key\n",
    "year_dictionary = {}\n",
    "\n",
    "# will iterate over list of years to hit all pages of the url to get all the data without having to manually go to each one\n",
    "for year in years:\n",
    "    \n",
    "    # must convert integer to a string to be able to use it in the html\n",
    "    str_year = str(year)\n",
    "    \n",
    "    # create the full url, the '/' is necessary at the end in order to not get a \"Forbidden 403\"\n",
    "    full_url = url + str_year + \"/\"\n",
    "    \n",
    "    html = requests.get(full_url).content\n",
    "    \n",
    "    print(full_url)\n",
    "    tables = pd.read_html(html)\n",
    "    \n",
    "    test = test.append(tables)"
   ]
  },
  {
   "cell_type": "code",
   "execution_count": null,
   "metadata": {},
   "outputs": [],
   "source": [
    "# scrape tables from the url and save to dataframes\n",
    "tables = pd.read_html(url)"
   ]
  },
  {
   "cell_type": "code",
   "execution_count": null,
   "metadata": {},
   "outputs": [],
   "source": [
    "years = [2006, 2007, 2008, 2009]\n",
    "year_dict = {}\n",
    "for year in years:\n",
    "    year_string = str(year)\n",
    "    full_url = url + year_string + '/'\n",
    "    ## do other stuff\n",
    "    list_of_tables = pd.read_html(html)\n",
    "    year_dict[year_string] = list_of_tables\n",
    "df_all = pd.DataFrame()\n",
    "for key, value in year_dict.items():\n",
    "    ## you can iterate like this to get the key and respective values\n",
    "    ## value will be a list of tables\n",
    "    for table in value:\n",
    "        if table meets some sort of condition:\n",
    "            df = table\n",
    "            df['year'] = key\n",
    "            df_all = df_all.append(df)\n",
    "## probably not as useful\n",
    "# for value in year_dict.values():\n",
    "#     ## you can just iterate over the values"
   ]
  }
 ],
 "metadata": {
  "kernelspec": {
   "display_name": "Python [conda env:PythonData] *",
   "language": "python",
   "name": "conda-env-PythonData-py"
  },
  "language_info": {
   "codemirror_mode": {
    "name": "ipython",
    "version": 3
   },
   "file_extension": ".py",
   "mimetype": "text/x-python",
   "name": "python",
   "nbconvert_exporter": "python",
   "pygments_lexer": "ipython3",
   "version": "3.6.10"
  }
 },
 "nbformat": 4,
 "nbformat_minor": 4
}
